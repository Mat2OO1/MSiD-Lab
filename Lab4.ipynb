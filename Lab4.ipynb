{
 "cells": [
  {
   "cell_type": "markdown",
   "metadata": {},
   "source": [
    "### Lab4 - Dopasowanie rozkładu do danych"
   ]
  },
  {
   "cell_type": "markdown",
   "metadata": {},
   "source": [
    "Przygotowanie do dopasowania rozkładu do danych zaczynamy od ponownego pobrania danych z Wikipedii. Jak poprzednio, będą to dane dotyczące największych miast w Europie."
   ]
  },
  {
   "cell_type": "code",
   "execution_count": 23,
   "metadata": {},
   "outputs": [
    {
     "data": {
      "text/html": [
       "<div>\n",
       "<style scoped>\n",
       "    .dataframe tbody tr th:only-of-type {\n",
       "        vertical-align: middle;\n",
       "    }\n",
       "\n",
       "    .dataframe tbody tr th {\n",
       "        vertical-align: top;\n",
       "    }\n",
       "\n",
       "    .dataframe thead th {\n",
       "        text-align: right;\n",
       "    }\n",
       "</style>\n",
       "<table border=\"1\" class=\"dataframe\">\n",
       "  <thead>\n",
       "    <tr style=\"text-align: right;\">\n",
       "      <th></th>\n",
       "      <th>City</th>\n",
       "      <th>Country</th>\n",
       "      <th>Officialpopulation</th>\n",
       "    </tr>\n",
       "  </thead>\n",
       "  <tbody>\n",
       "    <tr>\n",
       "      <th>0</th>\n",
       "      <td>Istanbul</td>\n",
       "      <td>Turkey</td>\n",
       "      <td>15.84</td>\n",
       "    </tr>\n",
       "    <tr>\n",
       "      <th>1</th>\n",
       "      <td>Moscow</td>\n",
       "      <td>Russia</td>\n",
       "      <td>12.63</td>\n",
       "    </tr>\n",
       "    <tr>\n",
       "      <th>2</th>\n",
       "      <td>London</td>\n",
       "      <td>United Kingdom</td>\n",
       "      <td>9.0</td>\n",
       "    </tr>\n",
       "    <tr>\n",
       "      <th>3</th>\n",
       "      <td>Saint Petersburg</td>\n",
       "      <td>Russia</td>\n",
       "      <td>5.38</td>\n",
       "    </tr>\n",
       "    <tr>\n",
       "      <th>4</th>\n",
       "      <td>Berlin</td>\n",
       "      <td>Germany</td>\n",
       "      <td>3.66</td>\n",
       "    </tr>\n",
       "    <tr>\n",
       "      <th>5</th>\n",
       "      <td>Madrid</td>\n",
       "      <td>Spain</td>\n",
       "      <td>3.31</td>\n",
       "    </tr>\n",
       "    <tr>\n",
       "      <th>6</th>\n",
       "      <td>Kyiv</td>\n",
       "      <td>Ukraine</td>\n",
       "      <td>2.92</td>\n",
       "    </tr>\n",
       "    <tr>\n",
       "      <th>7</th>\n",
       "      <td>Rome</td>\n",
       "      <td>Italy</td>\n",
       "      <td>2.84</td>\n",
       "    </tr>\n",
       "    <tr>\n",
       "      <th>8</th>\n",
       "      <td>Bucharest</td>\n",
       "      <td>Romania</td>\n",
       "      <td>2.16</td>\n",
       "    </tr>\n",
       "    <tr>\n",
       "      <th>9</th>\n",
       "      <td>Paris</td>\n",
       "      <td>France</td>\n",
       "      <td>2.14</td>\n",
       "    </tr>\n",
       "    <tr>\n",
       "      <th>10</th>\n",
       "      <td>Minsk</td>\n",
       "      <td>Belarus</td>\n",
       "      <td>2.01</td>\n",
       "    </tr>\n",
       "    <tr>\n",
       "      <th>11</th>\n",
       "      <td>Vienna</td>\n",
       "      <td>Austria</td>\n",
       "      <td>1.93</td>\n",
       "    </tr>\n",
       "    <tr>\n",
       "      <th>12</th>\n",
       "      <td>Hamburg</td>\n",
       "      <td>Germany</td>\n",
       "      <td>1.85</td>\n",
       "    </tr>\n",
       "    <tr>\n",
       "      <th>13</th>\n",
       "      <td>Warsaw</td>\n",
       "      <td>Poland</td>\n",
       "      <td>1.79</td>\n",
       "    </tr>\n",
       "    <tr>\n",
       "      <th>14</th>\n",
       "      <td>Budapest</td>\n",
       "      <td>Hungary</td>\n",
       "      <td>1.72</td>\n",
       "    </tr>\n",
       "  </tbody>\n",
       "</table>\n",
       "</div>"
      ],
      "text/plain": [
       "                City         Country Officialpopulation\n",
       "0           Istanbul          Turkey              15.84\n",
       "1             Moscow          Russia              12.63\n",
       "2             London  United Kingdom                9.0\n",
       "3   Saint Petersburg          Russia               5.38\n",
       "4             Berlin         Germany               3.66\n",
       "5             Madrid           Spain               3.31\n",
       "6               Kyiv         Ukraine               2.92\n",
       "7               Rome           Italy               2.84\n",
       "8          Bucharest         Romania               2.16\n",
       "9              Paris          France               2.14\n",
       "10             Minsk         Belarus               2.01\n",
       "11            Vienna         Austria               1.93\n",
       "12           Hamburg         Germany               1.85\n",
       "13            Warsaw          Poland               1.79\n",
       "14          Budapest         Hungary               1.72"
      ]
     },
     "execution_count": 23,
     "metadata": {},
     "output_type": "execute_result"
    }
   ],
   "source": [
    "import pandas as pd\n",
    "import requests\n",
    "from bs4 import BeautifulSoup\n",
    "\n",
    "URL = \"https://en.wikipedia.org/wiki/List_of_European_cities_by_population_within_city_limits\"\n",
    "resp = requests.get(URL) \n",
    "if resp.status_code == 200:\n",
    "    soup = BeautifulSoup(resp.content,'html.parser')\n",
    "    tab = soup.find('table',{'class':\"wikitable\"})\n",
    "df = pd.read_html(str(tab))[0]\n",
    "df =df.loc[:, 'City':'Officialpopulation':]\n",
    "df.replace(to_replace={'[[a]]':\"\",'[[b]]':\"\"}, regex=True,inplace=True)\n",
    "df.replace(to_replace='[[,]', value=\"\", regex=True,inplace=True)\n",
    "for i in range(len(df['Officialpopulation'])):\n",
    "    df['Officialpopulation'][i] = float(\"{:.2f}\".format(int(df['Officialpopulation'][i])/1000000))\n",
    "df = df[:15]\n",
    "df"
   ]
  },
  {
   "cell_type": "markdown",
   "metadata": {},
   "source": [
    "W zadaniu na to laboratorium zajmiemy się testami normalności danych D’Agostino-Pearsona oraz Shapiro-Wilka.\n",
    "W moim przypadku, wybiorę cechę dotyczącą populacji miast. Oznaczę ją jako city."
   ]
  },
  {
   "cell_type": "code",
   "execution_count": 24,
   "metadata": {},
   "outputs": [
    {
     "name": "stdout",
     "output_type": "stream",
     "text": [
      "Populacja miast: [15.84 12.63 9.0 5.38 3.66 3.31 2.92 2.84 2.16 2.14 2.01 1.93 1.85 1.79\n",
      " 1.72]\n"
     ]
    }
   ],
   "source": [
    "city = df['Officialpopulation'].values\n",
    "\n",
    "print('Populacja miast:', city)"
   ]
  },
  {
   "cell_type": "markdown",
   "metadata": {},
   "source": [
    "### TEST SHAPIRO"
   ]
  },
  {
   "cell_type": "code",
   "execution_count": 25,
   "metadata": {},
   "outputs": [
    {
     "name": "stdout",
     "output_type": "stream",
     "text": [
      "Populacja miast: 0.6927 -statystyka  p-wartość- 0.0002\n"
     ]
    }
   ],
   "source": [
    "from scipy import stats\n",
    "print('Populacja miast: '+ str(round(stats.shapiro(city)[0],4)) + ' -statystyka ' + ' p-wartość- ' + str(round(stats.shapiro(city)[1],4)))"
   ]
  },
  {
   "cell_type": "markdown",
   "metadata": {},
   "source": [
    "Biblioteka scipy zwraca p-wartość, którą możemy odczytać z tabeli rozkładu Shapiro-Wilka . Gdy jest ona większa od 0,05 to nie mamy podstaw do odrzucenia hipotezy zerowej. W powyższym przypadku hipotezę zerową odrzucamy. Dane dla populacji miasta nie mają rozkładu normalnego."
   ]
  },
  {
   "cell_type": "markdown",
   "metadata": {},
   "source": [
    "### TEST D'AGOSTINA-PEARSONA"
   ]
  },
  {
   "cell_type": "code",
   "execution_count": 26,
   "metadata": {},
   "outputs": [
    {
     "name": "stdout",
     "output_type": "stream",
     "text": [
      "Populacja miast: 11.519 -statystyka  p-wartość- 0.0032\n"
     ]
    },
    {
     "name": "stderr",
     "output_type": "stream",
     "text": [
      "c:\\Users\\Mateusz\\AppData\\Local\\Programs\\Python\\Python38\\lib\\site-packages\\scipy\\stats\\_stats_py.py:1477: UserWarning: kurtosistest only valid for n>=20 ... continuing anyway, n=15\n",
      "  warnings.warn(\"kurtosistest only valid for n>=20 ... continuing \"\n"
     ]
    }
   ],
   "source": [
    "print('Populacja miast: '+ str(round(stats.normaltest(city)[0],4)) + ' -statystyka ' + ' p-wartość- ' + str(round(stats.normaltest(city)[1],4)))"
   ]
  },
  {
   "cell_type": "markdown",
   "metadata": {},
   "source": [
    "Możemy wyciągnąć dla tego testu identyczne wnioski. Populacja miasta nie ma rozkładu normalnego."
   ]
  },
  {
   "cell_type": "markdown",
   "metadata": {},
   "source": [
    "### b) Wizualizacja danych i ich modelu w postaci estymatora Parzena dla 3 wybranych szerokości okna h.\n",
    "Cecha populacja miasta nie ma rozkładu normalnego, dlatego posłużymy się estymatorem Parzena."
   ]
  },
  {
   "cell_type": "code",
   "execution_count": 27,
   "metadata": {},
   "outputs": [
    {
     "data": {
      "image/png": "[encoded data removed]",
      "text/plain": [
       "<Figure size 720x288 with 1 Axes>"
      ]
     },
     "metadata": {
      "needs_background": "light"
     },
     "output_type": "display_data"
    }
   ],
   "source": [
    "import numpy as np\n",
    "import matplotlib.pyplot as plt\n",
    "maximum_length = max(city)\n",
    "city = city/maximum_length\n",
    "\n",
    "def K(x):\n",
    "  return np.exp(-x**2/2)/np.sqrt(2*np.pi)\n",
    "\n",
    "os_x = np.linspace(city.min()-1, city.max()+1, num=1000)\n",
    "\n",
    "H = [0.2, 0.4, 0.8]\n",
    "N = city.size\n",
    "\n",
    "plt.figure(figsize=(10,4))\n",
    "for h in H:\n",
    "  suma = 0\n",
    "  for nr, pomiar in enumerate(city):\n",
    "    suma += K((os_x-pomiar)/h)\n",
    "  os_y = suma/(h*N)\n",
    "  plt.plot(os_x, os_y, label=f'h = {h}')\n",
    "  \n",
    "\n",
    "plt.plot(city, np.zeros_like(city) , 's', markersize=5, color='black', label='dane')\n",
    "plt.xlabel('Populacja miast [w mln]', fontsize=14)\n",
    "plt.ylabel('$f$', fontsize=14, rotation='horizontal', labelpad=15)\n",
    "plt.legend(fontsize=12, shadow=True)\n",
    "plt.show()\n"
   ]
  }
 ],
 "metadata": {
  "interpreter": {
   "hash": "3caa9fc9607d27dcfb4189dd9322059c483d38c205ba0ca5bf902cd581718011"
  },
  "kernelspec": {
   "display_name": "Python 3.8.5 64-bit",
   "language": "python",
   "name": "python3"
  },
  "language_info": {
   "codemirror_mode": {
    "name": "ipython",
    "version": 3
   },
   "file_extension": ".py",
   "mimetype": "text/x-python",
   "name": "python",
   "nbconvert_exporter": "python",
   "pygments_lexer": "ipython3",
   "version": "3.8.5"
  },
  "orig_nbformat": 4
 },
 "nbformat": 4,
 "nbformat_minor": 2
}
